{
 "cells": [
  {
   "cell_type": "code",
   "execution_count": 20,
   "metadata": {},
   "outputs": [],
   "source": [
    "import cv2\n",
    "import numpy as np\n",
    "\n",
    "image = cv2.imread('image.png')\n",
    "\n",
    "# Convert the image to grayscale\n",
    "gray_image = cv2.cvtColor(image, cv2.COLOR_BGR2GRAY)\n",
    "\n",
    "# Perform 2D DFT on the grayscale image\n",
    "dft_result = np.fft.fft2(gray_image)\n",
    "\n",
    "# Convert complex numbers to magnitude and phase\n",
    "magnitude = np.abs(dft_result)\n",
    "phase = np.angle(dft_result)\n",
    "\n",
    "# phase[:100] = 0\n",
    "\n",
    "# Apply logarithmic transformation to magnitude\n",
    "magnitude_log = np.log1p(magnitude)\n",
    "\n",
    "# Normalize the magnitude to the range [0, 1]\n",
    "magnitude_normalized = cv2.normalize(magnitude_log, None, 0.0, 1.0, cv2.NORM_MINMAX)\n",
    "\n",
    "# Normalize the phase to the range [0, 1]\n",
    "phase_normalized = cv2.normalize(phase, None, 0.0, 1.0, cv2.NORM_MINMAX)\n",
    "\n",
    "cv2.imshow('Magnitude', magnitude_normalized)\n",
    "cv2.imshow('Phase', phase_normalized)\n",
    "# cv2.waitKey(0)\n",
    "# cv2.destroyAllWindows()\n",
    "# Reconstruct the image from magnitude and phase\n",
    "reconstructed_image = np.fft.ifft2(np.exp(1j * phase) * magnitude)\n",
    "\n",
    "# Convert the reconstructed image to uint8\n",
    "reconstructed_image = np.uint8(np.real(reconstructed_image))\n",
    "\n",
    "# Display the reconstructed image\n",
    "cv2.imshow('Reconstructed Image', reconstructed_image)\n",
    "cv2.waitKey(0)\n",
    "cv2.destroyAllWindows()\n"
   ]
  }
 ],
 "metadata": {
  "kernelspec": {
   "display_name": "Python 3",
   "language": "python",
   "name": "python3"
  },
  "language_info": {
   "codemirror_mode": {
    "name": "ipython",
    "version": 3
   },
   "file_extension": ".py",
   "mimetype": "text/x-python",
   "name": "python",
   "nbconvert_exporter": "python",
   "pygments_lexer": "ipython3",
   "version": "3.12.1"
  }
 },
 "nbformat": 4,
 "nbformat_minor": 2
}
