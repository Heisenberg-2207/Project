{
 "cells": [
  {
   "cell_type": "code",
   "execution_count": 8,
   "metadata": {},
   "outputs": [
    {
     "name": "stdout",
     "output_type": "stream",
     "text": [
      "[[ 1  2  3  4]\n",
      " [ 5  6  7  8]\n",
      " [ 9 10 11 12]\n",
      " [13 14 15 16]]\n",
      "[[10.+0.j -2.+2.j -2.+0.j -2.-2.j]\n",
      " [26.+0.j -2.+2.j -2.+0.j -2.-2.j]\n",
      " [42.+0.j -2.+2.j -2.+0.j -2.-2.j]\n",
      " [58.+0.j -2.+2.j -2.+0.j -2.-2.j]]\n"
     ]
    }
   ],
   "source": [
    "import numpy as np\n",
    "array = np.array([[1,2,3,4], [5,6,7,8], [9,10,11,12], [13,14,15,16]]) \n",
    "dft_result = np.fft.fft2(array)\n",
    "print(array)\n",
    "print(dft_result)"
   ]
  }
 ],
 "metadata": {
  "kernelspec": {
   "display_name": "Python 3",
   "language": "python",
   "name": "python3"
  },
  "language_info": {
   "codemirror_mode": {
    "name": "ipython",
    "version": 3
   },
   "file_extension": ".py",
   "mimetype": "text/x-python",
   "name": "python",
   "nbconvert_exporter": "python",
   "pygments_lexer": "ipython3",
   "version": "3.12.1"
  }
 },
 "nbformat": 4,
 "nbformat_minor": 2
}
