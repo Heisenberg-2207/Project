{
 "cells": [
  {
   "cell_type": "code",
   "execution_count": 7,
   "metadata": {},
   "outputs": [
    {
     "name": "stdout",
     "output_type": "stream",
     "text": [
      "(720, 1280)\n",
      "     0     1     2     3     4     5     6     7     8     9     ...  1270  \\\n",
      "0      43    54    77   119   117    58    96    87    26    65  ...    88   \n",
      "1      36    55    93   119   107    53    67    51    66   101  ...    82   \n",
      "2      54    81   151   176   152   102    93    89    66   108  ...    82   \n",
      "3     116   110   169   201   199   182   162   169   194   199  ...    76   \n",
      "4     169   126   128   135   158   197   173   158   168   179  ...    60   \n",
      "..    ...   ...   ...   ...   ...   ...   ...   ...   ...   ...  ...   ...   \n",
      "715    54    93   131    69    33    58    57    81    69    69  ...   114   \n",
      "716   117   161   158    60    44    82    49    43    33    59  ...   113   \n",
      "717   124   121    97    52    64    79    50    57   122   138  ...   118   \n",
      "718    93    60    48    59    60    50    55    75    47    79  ...   126   \n",
      "719    85    69    64    64    43    53    78    50    42    40  ...   132   \n",
      "\n",
      "     1271  1272  1273  1274  1275  1276  1277  1278  1279  \n",
      "0      91    86    69    76   102   102    67    37    31  \n",
      "1      89    89    80    78    79    64    38    31    39  \n",
      "2      95    89    87    78    60    40    31    37    46  \n",
      "3      91    86    89    80    61    51    52    50    42  \n",
      "4      67    83    92    90    74    64    61    52    37  \n",
      "..    ...   ...   ...   ...   ...   ...   ...   ...   ...  \n",
      "715   180   204   196   196   200   204   212   216   209  \n",
      "716   190   204   194   194   201   206   214   216   210  \n",
      "717   197   205   192   192   202   208   214   215   209  \n",
      "718   201   204   190   190   202   210   214   215   209  \n",
      "719   203   204   189   189   202   210   214   214   209  \n",
      "\n",
      "[720 rows x 1280 columns]\n"
     ]
    }
   ],
   "source": [
    "import cv2\n",
    "import numpy as np\n",
    "import pandas as pd\n",
    "\n",
    "image = cv2.imread('image2.jpg')\n",
    "\n",
    "# Convert the image to grayscale\n",
    "gray_img = cv2.cvtColor(image, cv2.COLOR_BGR2GRAY)\n",
    "print(gray_img.shape)\n",
    "np.savetxt('signal.csv', gray_img, delimiter=',')\n",
    "gray_image = pd.read_csv('idft_signal.csv', header=None)\n",
    "gray_image = gray_image.iloc[:, :-1]\n",
    "\n",
    "print(gray_image)\n",
    "\n",
    "# Perform 2D DFT on the grayscale image\n",
    "dft_result = np.fft.fft2(gray_image)\n",
    "\n",
    "# Convert complex numbers to magnitude and phase\n",
    "magnitude = np.abs(dft_result)\n",
    "phase = np.angle(dft_result)\n",
    "\n",
    "magnitude[:100] = 0\n",
    "\n",
    "# Apply logarithmic transformation to magnitude\n",
    "magnitude_log = np.log1p(magnitude)\n",
    "\n",
    "# Normalize the magnitude to the range [0, 1]\n",
    "magnitude_normalized = cv2.normalize(magnitude_log, None, 0.0, 1.0, cv2.NORM_MINMAX)\n",
    "\n",
    "# Normalize the phase to the range [0, 1]\n",
    "phase_normalized = cv2.normalize(phase, None, 0.0, 1.0, cv2.NORM_MINMAX)\n",
    "\n",
    "cv2.imshow('Magnitude', magnitude_normalized)\n",
    "cv2.imshow('Phase', phase_normalized)\n",
    "# cv2.waitKey(0)\n",
    "# cv2.destroyAllWindows()\n",
    "# Reconstruct the image from magnitude and phase\n",
    "reconstructed_image = np.fft.ifft2(np.exp(1j * phase) * magnitude)\n",
    "\n",
    "# Convert the reconstructed image to uint8\n",
    "reconstructed_image = np.uint8(np.real(reconstructed_image))\n",
    "\n",
    "# Display the reconstructed image\n",
    "cv2.imshow('Reconstructed Image', reconstructed_image)\n",
    "cv2.waitKey(0)\n",
    "cv2.destroyAllWindows()\n"
   ]
  }
 ],
 "metadata": {
  "kernelspec": {
   "display_name": "Python 3",
   "language": "python",
   "name": "python3"
  },
  "language_info": {
   "codemirror_mode": {
    "name": "ipython",
    "version": 3
   },
   "file_extension": ".py",
   "mimetype": "text/x-python",
   "name": "python",
   "nbconvert_exporter": "python",
   "pygments_lexer": "ipython3",
   "version": "3.12.1"
  }
 },
 "nbformat": 4,
 "nbformat_minor": 2
}
